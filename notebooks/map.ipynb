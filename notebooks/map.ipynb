{
 "cells": [
  {
   "cell_type": "code",
   "execution_count": null,
   "id": "351012d4-8c5c-4793-9dea-a21627538bdf",
   "metadata": {},
   "outputs": [],
   "source": [
    "import pandas as pd\n",
    "import geopandas as gpd\n",
    "import matplotlib.pyplot as plt\n",
    "from contextlib import contextmanager\n",
    "import seaborn as sns\n",
    "from matplotlib.lines import Line2D\n",
    "import matplotlib"
   ]
  },
  {
   "cell_type": "code",
   "execution_count": null,
   "id": "7c366997-a149-4d56-a06e-726269659a98",
   "metadata": {},
   "outputs": [],
   "source": [
    "stations = pd.read_csv(\"stations_sample.csv\", index_col=0)"
   ]
  },
  {
   "cell_type": "code",
   "execution_count": null,
   "id": "48df9894-bc92-466e-a89e-5e400a15f37c",
   "metadata": {},
   "outputs": [],
   "source": [
    "PADDING = 0.005\n",
    "\n",
    "min_y = stations[\"lat\"].min() - PADDING\n",
    "max_y = stations[\"lat\"].max() + PADDING\n",
    "min_x = stations[\"lon\"].min() - PADDING\n",
    "max_x = stations[\"lon\"].max() + PADDING"
   ]
  },
  {
   "cell_type": "code",
   "execution_count": null,
   "id": "10f18bdc-045a-4801-8364-fece71437079",
   "metadata": {},
   "outputs": [],
   "source": [
    "import os\n",
    "from glob import glob\n",
    "\n",
    "for f in glob(\"*.png\"):\n",
    "    os.remove(f)"
   ]
  },
  {
   "cell_type": "code",
   "execution_count": null,
   "id": "45eb4698-ebf7-441b-a75c-602897aa83b2",
   "metadata": {},
   "outputs": [],
   "source": [
    "thing = { 'plot': 0}"
   ]
  },
  {
   "cell_type": "code",
   "execution_count": null,
   "id": "b765a8ee-a38c-4f4d-aa0e-6691cc154048",
   "metadata": {},
   "outputs": [],
   "source": [
    "@contextmanager\n",
    "def make_axes(name, show=True):\n",
    "    fig = plt.Figure(figsize=(6, 4), dpi=200, frameon=False)\n",
    "    ax = plt.Axes(fig, [0., 0., 1., 1.])\n",
    "    fig.add_axes(ax)\n",
    "    yield ax\n",
    "    fig.savefig(f\"{thing['plot']:02d} - {name}.png\", bbox_inches='tight', pad_inches=0)\n",
    "    thing['plot'] += 1\n",
    "    if show:\n",
    "        new_manager = plt.figure().canvas.manager\n",
    "        new_manager.canvas.figure = fig\n",
    "        fig.set_canvas(new_manager.canvas)\n",
    "        plt.show()"
   ]
  },
  {
   "cell_type": "code",
   "execution_count": null,
   "id": "59e69536-9493-420c-928f-f334f4557a6b",
   "metadata": {},
   "outputs": [],
   "source": [
    "with make_axes(\"empty-axe\"):\n",
    "    pass"
   ]
  },
  {
   "cell_type": "code",
   "execution_count": null,
   "id": "f25ae497-9ab4-42ad-8b32-42384a8d47d1",
   "metadata": {},
   "outputs": [],
   "source": [
    "with make_axes(\"map-as-is\") as ax:\n",
    "    london_map = gpd.read_file(\"../shapefiles/London_Borough_Excluding_MHW.shp\").to_crs(epsg=4326)\n",
    "    london_map.plot(ax=ax)"
   ]
  },
  {
   "cell_type": "code",
   "execution_count": null,
   "id": "1f7a2ddb-4d24-4563-9744-8ca47a0ae43c",
   "metadata": {},
   "outputs": [],
   "source": [
    "with make_axes(\"map-with-stations\") as ax:\n",
    "    london_map = gpd.read_file(\"../shapefiles/London_Borough_Excluding_MHW.shp\").to_crs(epsg=4326)\n",
    "    london_map.plot(ax=ax)\n",
    "    sns.scatterplot(y=\"lat\", x=\"lon\", hue=\"proportion\", data=stations, ax=ax)"
   ]
  },
  {
   "cell_type": "code",
   "execution_count": null,
   "id": "9c262797-c011-421f-8cc6-b5838746a755",
   "metadata": {},
   "outputs": [],
   "source": [
    "with make_axes(\"map-with-stations-centered\") as ax:\n",
    "    london_map = gpd.read_file(\"../shapefiles/London_Borough_Excluding_MHW.shp\").to_crs(epsg=4326)\n",
    "\n",
    "    london_map.plot(ax=ax)\n",
    "    sns.scatterplot(y=\"lat\", x=\"lon\", hue=\"proportion\", data=stations, ax=ax)\n",
    "    \n",
    "    ax.set_ylim((min_y, max_y))\n",
    "    ax.set_xlim((min_x, max_x))\n",
    "    ax.set_axis_off()"
   ]
  },
  {
   "cell_type": "code",
   "execution_count": null,
   "id": "4811c8c8-c469-4552-aef3-76a2c2fa15b9",
   "metadata": {},
   "outputs": [],
   "source": [
    "with make_axes(\"map-with-stations-centered\") as ax:\n",
    "    london_map = gpd.read_file(\"../shapefiles/London_Borough_Excluding_MHW.shp\").to_crs(epsg=4326)\n",
    "\n",
    "    ax.fill_between([min_x, min_y], min_y, max_y, color=\"#9CC0F9\")\n",
    "    london_map.plot(ax=ax, linewidth=0.5, color='#F4F6F7', edgecolor='black')\n",
    "    sns.scatterplot(y=\"lat\", x=\"lon\", hue=\"proportion\", data=stations, ax=ax)\n",
    "\n",
    "    ax.set_ylim((min_y, max_y))\n",
    "    ax.set_xlim((min_x, max_x))\n",
    "    ax.set_axis_off()"
   ]
  },
  {
   "cell_type": "code",
   "execution_count": null,
   "id": "1d43d1e9-428e-498b-9cae-f06287eadc15",
   "metadata": {},
   "outputs": [],
   "source": [
    "with make_axes(\"map-with-stations-centered\") as ax:\n",
    "    cmap = matplotlib.cm.get_cmap(\"OrRd\")\n",
    "    london_map = gpd.read_file(\"../shapefiles/London_Borough_Excluding_MHW.shp\").to_crs(epsg=4326)\n",
    "    ax.fill_between([min_x, min_y], min_y, max_y, color=\"#9CC0F9\")\n",
    "    london_map.plot(\n",
    "        ax=ax, linewidth=0.5, color=\"#F4F6F7\", edgecolor=\"#121212\", facecolor=\"blue\"\n",
    "    )\n",
    "    sns.scatterplot(\n",
    "        y=\"lat\",\n",
    "        x=\"lon\",\n",
    "        hue=\"proportion\",\n",
    "        palette=cmap,\n",
    "        edgecolor=\"k\",\n",
    "        linewidth=0.5,\n",
    "        data=stations,\n",
    "        ax=ax,\n",
    "    )\n",
    "\n",
    "    ax.set_ylim((min_y, max_y))\n",
    "    ax.set_xlim((min_x, max_x))\n",
    "    ax.set_axis_off()"
   ]
  },
  {
   "cell_type": "markdown",
   "id": "67efb31f-9dbd-4e58-be46-347ec34832d5",
   "metadata": {},
   "source": [
    "# Custom legend"
   ]
  },
  {
   "cell_type": "code",
   "execution_count": null,
   "id": "493ae12a-fff5-4480-9ba1-6933d0fa53b2",
   "metadata": {},
   "outputs": [],
   "source": [
    "with make_axes(\"map-with-stations-centered\") as ax:\n",
    "\n",
    "    cmap = matplotlib.cm.get_cmap(\"OrRd\")\n",
    "    london_map = gpd.read_file(\"../shapefiles/London_Borough_Excluding_MHW.shp\").to_crs(epsg=4326    )\n",
    "    ax.fill_between([min_x, min_y], min_y, max_y, color=\"#9CC0F9\")\n",
    "    london_map.plot(\n",
    "        ax=ax, linewidth=0.5, color=\"#F4F6F7\", edgecolor=\"#121212\", facecolor=\"blue\"\n",
    "    )\n",
    "    sns.scatterplot(\n",
    "        y=\"lat\",\n",
    "        x=\"lon\",\n",
    "        hue=\"proportion\",\n",
    "        palette=cmap,\n",
    "        edgecolor=\"k\",\n",
    "        linewidth=0.1,\n",
    "        data=stations,\n",
    "        ax=ax,\n",
    "    )\n",
    "\n",
    "    ax.legend().remove()\n",
    "    ax.set_ylim((min_y, max_y))\n",
    "    ax.set_xlim((min_x, max_x))\n",
    "    ax.set_axis_off()\n",
    "\n",
    "    legend_elements = []\n",
    "    \n",
    "    for gradient, label in zip([0.0, 0.5, 1.0], [\"Empty\", \"Busy\", \"Full\"]):\n",
    "        print([int(aa*255) for aa in cmap(gradient)])\n",
    "        legend_elements.append(\n",
    "            Line2D(\n",
    "                [0],\n",
    "                [0],\n",
    "                marker=\"o\",\n",
    "                color=\"w\",\n",
    "                label=label,\n",
    "                markerfacecolor=cmap(gradient),\n",
    "                markeredgewidth=0.5,\n",
    "                markeredgecolor=\"k\",\n",
    "            )\n",
    "        )\n",
    "\n",
    "    ax.legend(handles=legend_elements, loc=\"lower right\", prop={\"size\": 6}, ncol=3)\n"
   ]
  },
  {
   "cell_type": "code",
   "execution_count": null,
   "id": "7480e060-1a91-46e1-b70d-753f07a134eb",
   "metadata": {},
   "outputs": [],
   "source": []
  }
 ],
 "metadata": {
  "kernelspec": {
   "display_name": "Python 3 (ipykernel)",
   "language": "python",
   "name": "python3"
  },
  "language_info": {
   "codemirror_mode": {
    "name": "ipython",
    "version": 3
   },
   "file_extension": ".py",
   "mimetype": "text/x-python",
   "name": "python",
   "nbconvert_exporter": "python",
   "pygments_lexer": "ipython3",
   "version": "3.9.6"
  }
 },
 "nbformat": 4,
 "nbformat_minor": 5
}
